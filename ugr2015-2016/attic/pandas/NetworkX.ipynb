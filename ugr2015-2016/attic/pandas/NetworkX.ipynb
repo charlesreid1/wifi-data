{
 "cells": [
  {
   "cell_type": "code",
   "execution_count": 160,
   "metadata": {
    "collapsed": false
   },
   "outputs": [],
   "source": [
    "%matplotlib inline\n",
    "import os\n",
    "import sys\n",
    "import pandas as pd\n",
    "import numpy as np\n",
    "import matplotlib.pyplot as plt\n",
    "import seaborn as sns\n",
    "import networkx as nx"
   ]
  },
  {
   "cell_type": "code",
   "execution_count": 161,
   "metadata": {
    "collapsed": false
   },
   "outputs": [],
   "source": [
    "ap_df = pd.read_csv('data_ap_time.csv',index_col=None)\n",
    "client_df = pd.read_csv('data_client_time.csv')"
   ]
  },
  {
   "cell_type": "code",
   "execution_count": 162,
   "metadata": {
    "collapsed": false
   },
   "outputs": [
    {
     "name": "stdout",
     "output_type": "stream",
     "text": [
      "2923\n",
      "Index([u'BSSID', u'First time seen', u'Last time seen', u'channel', u'Speed',\n",
      "       u'Privacy', u'Cipher', u'Authentication', u'Power', u'# beacons',\n",
      "       u'# IV', u'LAN IP', u'ID-length', u'ESSID', u'Key', u'Seconds Elapsed'],\n",
      "      dtype='object')\n",
      "542\n",
      "Index([u'Station MAC', u'First time seen', u'Last time seen', u'Power',\n",
      "       u'# packets', u'BSSID', u'Probed ESSIDs', u'Seconds Elapsed'],\n",
      "      dtype='object')\n"
     ]
    }
   ],
   "source": [
    "def second_minute(df):\n",
    "    se = 'Seconds Elapsed'\n",
    "    return df[np.logical_and(df[se]>60,df[se]<1000)]\n",
    "\n",
    "ap_data = second_minute(ap_df)\n",
    "client_data = second_minute(client_df)\n",
    "\n",
    "print len(ap_data)\n",
    "print ap_data.columns\n",
    "\n",
    "print len(client_data)\n",
    "print client_data.columns\n"
   ]
  },
  {
   "cell_type": "code",
   "execution_count": 163,
   "metadata": {
    "collapsed": false
   },
   "outputs": [],
   "source": [
    "G = nx.Graph()\n",
    "\n",
    "ap_nodes = ap_data['BSSID'].unique()\n",
    "client_nodes = client_data['Station MAC'].unique()\n",
    "\n",
    "edges = client_data[['Station MAC','BSSID']]\n",
    "\n",
    "# edges has two index labels\n",
    "#['Station MAC','BSSID']\n",
    "\n",
    "for ap_node in ap_nodes:\n",
    "    G.add_node(ap_node)\n",
    "    \n",
    "for client_node in client_nodes:\n",
    "    G.add_node(client_node)\n",
    "\n",
    "for i,val in edges.iterrows():\n",
    "    station_mac = val['Station MAC']\n",
    "    ap_mac = val['BSSID']\n",
    "\n",
    "    if ap_mac <> '(not associated)':\n",
    "        G.add_edge(station_mac, ap_mac)"
   ]
  },
  {
   "cell_type": "code",
   "execution_count": 164,
   "metadata": {
    "collapsed": false
   },
   "outputs": [],
   "source": [
    "for ap_node in ap_nodes:\n",
    "    G.add_node(ap_node,node_type='AP')\n",
    "    \n",
    "for client_node in client_nodes:\n",
    "    G.add_node(client_node,node_type='Client')\n",
    "\n",
    "for edge in edgestuple:\n",
    "    #print edge[0] in G.nodes()\n",
    "    #print edge[1] in G.nodes()\n",
    "    G.add_edge(edge[0],edge[1])"
   ]
  },
  {
   "cell_type": "code",
   "execution_count": 165,
   "metadata": {
    "collapsed": false
   },
   "outputs": [],
   "source": [
    "#colors=range(G.number_of_edges())\n",
    "\n",
    "#plt.figure()\n",
    "#pos=nx.spring_layout(G)\n",
    "#nx.draw(G,pos,node_color='#A0CBE2',edge_color=colors,node_size=10,width=4,edge_cmap=plt.cm.Blues,with_labels=False)\n",
    "\n",
    "#plt.figure()\n",
    "##pos=nx.spring_layout(G)\n",
    "##pos=nx.spring_layout(G,iterations=100)\n",
    "#nx.draw(G,pos,node_size=50,with_labels=False)\n"
   ]
  },
  {
   "cell_type": "code",
   "execution_count": 166,
   "metadata": {
    "collapsed": false
   },
   "outputs": [
    {
     "name": "stdout",
     "output_type": "stream",
     "text": [
      "31\n",
      "132\n",
      "['__class__', '__contains__', '__delattr__', '__dict__', '__doc__', '__format__', '__getattribute__', '__getitem__', '__hash__', '__init__', '__iter__', '__len__', '__module__', '__new__', '__reduce__', '__reduce_ex__', '__repr__', '__setattr__', '__sizeof__', '__slotnames__', '__str__', '__subclasshook__', '__weakref__', 'add_cycle', 'add_edge', 'add_edges_from', 'add_node', 'add_nodes_from', 'add_path', 'add_star', 'add_weighted_edges_from', 'adj', 'adjacency_iter', 'adjacency_list', 'adjlist_dict_factory', 'clear', 'copy', 'degree', 'degree_iter', 'edge', 'edge_attr_dict_factory', 'edges', 'edges_iter', 'get_edge_data', 'graph', 'has_edge', 'has_node', 'is_directed', 'is_multigraph', 'name', 'nbunch_iter', 'neighbors', 'neighbors_iter', 'node', 'node_dict_factory', 'nodes', 'nodes_iter', 'nodes_with_selfloops', 'number_of_edges', 'number_of_nodes', 'number_of_selfloops', 'order', 'remove_edge', 'remove_edges_from', 'remove_node', 'remove_nodes_from', 'selfloop_edges', 'size', 'subgraph', 'to_directed', 'to_undirected']\n"
     ]
    }
   ],
   "source": [
    "print G.number_of_edges()\n",
    "print G.number_of_nodes()\n",
    "print dir(G)"
   ]
  },
  {
   "cell_type": "code",
   "execution_count": null,
   "metadata": {
    "collapsed": false
   },
   "outputs": [],
   "source": []
  },
  {
   "cell_type": "code",
   "execution_count": null,
   "metadata": {
    "collapsed": true
   },
   "outputs": [],
   "source": [
    " "
   ]
  }
 ],
 "metadata": {
  "kernelspec": {
   "display_name": "Python 2",
   "language": "python",
   "name": "python2"
  },
  "language_info": {
   "codemirror_mode": {
    "name": "ipython",
    "version": 2
   },
   "file_extension": ".py",
   "mimetype": "text/x-python",
   "name": "python",
   "nbconvert_exporter": "python",
   "pygments_lexer": "ipython2",
   "version": "2.7.10"
  }
 },
 "nbformat": 4,
 "nbformat_minor": 0
}
