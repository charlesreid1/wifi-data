{
 "cells": [
  {
   "cell_type": "code",
   "execution_count": 44,
   "metadata": {
    "collapsed": true
   },
   "outputs": [],
   "source": [
    "import pandas as pd\n",
    "import glob\n",
    "import pandas.io.sql as psql"
   ]
  },
  {
   "cell_type": "code",
   "execution_count": 31,
   "metadata": {
    "collapsed": false
   },
   "outputs": [],
   "source": [
    "#\n",
    "# Populate Client SQL Database\n",
    "# \n",
    "# For each CSV file with client wifi data, \n",
    "# populate records in the SQL database.\n",
    "\n",
    "# Set up database connection\n",
    "db_file='wifi.db'\n",
    "conn = sqlite3.connect(db_file)\n",
    "c = conn.cursor()\n",
    "\n",
    "# Deal with Pandas --> SQL type conversions\n",
    "\n",
    "\n",
    "# Loop through each client CSV file\n",
    "for csv_file in glob.glob(\"*_client.csv\"):\n",
    "    df = pd.read_csv(csv_file,skipinitialspace=True)\n",
    "    \n",
    "    "
   ]
  },
  {
   "cell_type": "code",
   "execution_count": 32,
   "metadata": {
    "collapsed": false
   },
   "outputs": [
    {
     "name": "stdout",
     "output_type": "stream",
     "text": [
      "Index([u'Station MAC', u'First time seen', u'Last time seen', u'Power',\n",
      "       u'# packets', u'BSSID', u'Probed ESSIDs'],\n",
      "      dtype='object')\n"
     ]
    }
   ],
   "source": [
    "print df1.columns"
   ]
  },
  {
   "cell_type": "code",
   "execution_count": 39,
   "metadata": {
    "collapsed": false
   },
   "outputs": [
    {
     "name": "stdout",
     "output_type": "stream",
     "text": [
      "Station MAC            EC:9B:F3:7E:E6:05\n",
      " First time seen     2016-08-29 15:19:08\n",
      " Last time seen      2016-08-29 15:19:19\n",
      " Power                               -82\n",
      " # packets                             3\n",
      " BSSID                 (not associated) \n",
      " Probed ESSIDs                       NaN\n",
      "Name: 0, dtype: object\n"
     ]
    }
   ],
   "source": [
    "print df.ix[0]"
   ]
  },
  {
   "cell_type": "code",
   "execution_count": null,
   "metadata": {
    "collapsed": true
   },
   "outputs": [],
   "source": []
  }
 ],
 "metadata": {
  "kernelspec": {
   "display_name": "Python 2",
   "language": "python",
   "name": "python2"
  },
  "language_info": {
   "codemirror_mode": {
    "name": "ipython",
    "version": 2
   },
   "file_extension": ".py",
   "mimetype": "text/x-python",
   "name": "python",
   "nbconvert_exporter": "python",
   "pygments_lexer": "ipython2",
   "version": "2.7.10"
  }
 },
 "nbformat": 4,
 "nbformat_minor": 0
}
