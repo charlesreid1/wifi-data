{
 "cells": [
  {
   "cell_type": "code",
   "execution_count": 11,
   "metadata": {
    "collapsed": false
   },
   "outputs": [],
   "source": [
    "%matplotlib inline\n",
    "import os\n",
    "import sys\n",
    "import pandas as pd\n",
    "import numpy as np\n",
    "import matplotlib.pyplot as plt\n",
    "import seaborn as sns"
   ]
  },
  {
   "cell_type": "code",
   "execution_count": 12,
   "metadata": {
    "collapsed": false
   },
   "outputs": [
    {
     "name": "stdout",
     "output_type": "stream",
     "text": [
      "Index([u'BSSID', u'First time seen', u'Last time seen', u'channel', u'Speed',\n",
      "       u'Privacy', u'Cipher', u'Authentication', u'Power', u'# beacons',\n",
      "       u'# IV', u'LAN IP', u'ID-length', u'ESSID', u'Key'],\n",
      "      dtype='object')\n",
      "Index([u'Station MAC', u'First time seen', u'Last time seen', u'Power',\n",
      "       u'# packets', u'BSSID', u'Probed ESSIDs'],\n",
      "      dtype='object')\n"
     ]
    }
   ],
   "source": [
    "# read in the AP and client master CSVs\n",
    "ap_df = pd.read_csv('data_ap.csv')\n",
    "client_df = pd.read_csv('data_client.csv')\n",
    "\n",
    "print ap_df.columns\n",
    "print client_df.columns"
   ]
  },
  {
   "cell_type": "code",
   "execution_count": 13,
   "metadata": {
    "collapsed": false
   },
   "outputs": [],
   "source": [
    "############################################\n",
    "# Start with timestamp conversion and analysis.\n",
    "# This is to figure out the number of seconds\n",
    "# that have elapsed since the start of the experiment\n",
    "# for all of the wifi data we have collected.\n",
    "\n",
    "# Start by converting all the \"First time seen\" and \"Last time seen\" columns to Timestamps\n",
    "\n",
    "# access points\n",
    "ap_df['First time seen'] = ap_df['First time seen'].apply(pd.to_datetime)\n",
    "ap_df['Last time seen']  = ap_df['Last time seen'].apply(pd.to_datetime)\n",
    "\n",
    "# clients\n",
    "client_df['First time seen'] = client_df['First time seen'].apply(pd.to_datetime)\n",
    "client_df['Last time seen']  = client_df['Last time seen'].apply(pd.to_datetime)\n",
    "\n",
    "\n",
    "# sort all of the \"first time seen\" fields and find the very, very first one.\n",
    "# that timestamp will mark the start of the experiment.\n",
    "times = client_df['First time seen'].append( ap_df['First time seen'] )\n",
    "sorted_times = times.sort_values(inplace=False).unique()\n",
    "experiment_begin = times.sort_values(inplace=False).values[0]"
   ]
  },
  {
   "cell_type": "code",
   "execution_count": 14,
   "metadata": {
    "collapsed": false
   },
   "outputs": [
    {
     "name": "stdout",
     "output_type": "stream",
     "text": [
      "2016-02-27 06:10:04\n"
     ]
    }
   ],
   "source": [
    "print pd.Timestamp(experiment_begin)"
   ]
  },
  {
   "cell_type": "code",
   "execution_count": 15,
   "metadata": {
    "collapsed": false
   },
   "outputs": [
    {
     "name": "stdout",
     "output_type": "stream",
     "text": [
      "========= Timestamp Format ==============\n",
      "0   2016-02-27 06:10:20\n",
      "1   2016-02-27 06:10:04\n",
      "2   2016-02-27 06:10:20\n",
      "3   2016-02-27 06:10:04\n",
      "4   2016-02-27 06:10:15\n",
      "Name: Seconds Elapsed, dtype: datetime64[ns]\n",
      "0   2016-02-27 06:10:15\n",
      "1   2016-02-27 06:10:19\n",
      "2   2016-02-27 06:10:15\n",
      "3   2016-02-27 06:10:15\n",
      "4   2016-02-27 06:10:19\n",
      "Name: Seconds Elapsed, dtype: datetime64[ns]\n",
      "========= Time Delta Format ==============\n",
      "0    16\n",
      "1     0\n",
      "2    16\n",
      "3     0\n",
      "4    11\n",
      "5    15\n",
      "6    16\n",
      "7    11\n",
      "Name: Seconds Elapsed, dtype: float64\n",
      "0    11\n",
      "1    15\n",
      "2    11\n",
      "3    11\n",
      "4    15\n",
      "5     0\n",
      "6    11\n",
      "7     0\n",
      "Name: Seconds Elapsed, dtype: float64\n"
     ]
    }
   ],
   "source": [
    "# Make a copy of the first time seen vector,\n",
    "# so we can convert it into number of seconds\n",
    "# that have elapsed and insert it back into the dataframe\n",
    "# (We will use this as the timestamp for each observation)\n",
    "client_times = client_df['First time seen'].copy(deep=True)\n",
    "client_times.name = 'Seconds Elapsed'\n",
    "\n",
    "ap_times = ap_df['First time seen'].copy(deep=True)\n",
    "ap_times.name = 'Seconds Elapsed'\n",
    "\n",
    "\n",
    "\n",
    "print \"========= Timestamp Format ==============\"\n",
    "print client_times[0:5]\n",
    "print ap_times[0:5]\n",
    "\n",
    "\n",
    "\n",
    "# Make a vector of the time deltas \n",
    "# (The time delta is the number of seconds elapsed since \n",
    "#  the beginning of the experiment.)\n",
    "client_time_deltas = client_times - experiment_begin\n",
    "client_time_deltas = client_time_deltas.astype('timedelta64[s]')\n",
    "\n",
    "ap_time_deltas = ap_times - experiment_begin\n",
    "ap_time_deltas = ap_time_deltas.astype('timedelta64[s]')\n",
    "\n",
    "\n",
    "\n",
    "print \"========= Time Delta Format ==============\"\n",
    "print client_time_deltas[0:8]\n",
    "print ap_time_deltas[0:8]"
   ]
  },
  {
   "cell_type": "code",
   "execution_count": 16,
   "metadata": {
    "collapsed": false
   },
   "outputs": [
    {
     "name": "stdout",
     "output_type": "stream",
     "text": [
      "7197.0\n",
      "Bingo!\n"
     ]
    }
   ],
   "source": [
    "# Since we ran a 2 hour experiment, \n",
    "# the last time delta should be 7200 s = 120 minutes = 2 hours\n",
    "print client_time_deltas.sort_values(inplace=False).values[-1]\n",
    "\n",
    "print \"Bingo!\""
   ]
  },
  {
   "cell_type": "code",
   "execution_count": 18,
   "metadata": {
    "collapsed": false
   },
   "outputs": [],
   "source": [
    "# Now we have a column that is number of seconds elapsed \n",
    "# since the start of the experiment.\n",
    "# \n",
    "# Add that as a column to the data frame.\n",
    "client_df['Seconds Elapsed'] = client_time_deltas\n",
    "ap_df['Seconds Elapsed'] = ap_time_deltas\n",
    "\n",
    "\n",
    "# Save this new time information to a new csv file.\n",
    "ap_df.to_csv('data_ap_time.csv')\n",
    "client_df.to_csv('data_client_time.csv')\n"
   ]
  },
  {
   "cell_type": "code",
   "execution_count": null,
   "metadata": {
    "collapsed": true
   },
   "outputs": [],
   "source": []
  }
 ],
 "metadata": {
  "kernelspec": {
   "display_name": "Python 2",
   "language": "python",
   "name": "python2"
  },
  "language_info": {
   "codemirror_mode": {
    "name": "ipython",
    "version": 2
   },
   "file_extension": ".py",
   "mimetype": "text/x-python",
   "name": "python",
   "nbconvert_exporter": "python",
   "pygments_lexer": "ipython2",
   "version": "2.7.10"
  }
 },
 "nbformat": 4,
 "nbformat_minor": 0
}
